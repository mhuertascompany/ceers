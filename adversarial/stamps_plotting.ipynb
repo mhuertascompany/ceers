{
 "cells": [
  {
   "cell_type": "code",
   "execution_count": null,
   "metadata": {},
   "outputs": [],
   "source": []
  }
 ],
 "metadata": {
  "kernelspec": {
   "display_name": "Python 3.9.13 ('dl4astro19')",
   "language": "python",
   "name": "python3"
  },
  "language_info": {
   "name": "python",
   "version": "3.9.15 | packaged by conda-forge | (main, Nov 22 2022, 08:52:10) \n[Clang 14.0.6 ]"
  },
  "orig_nbformat": 4,
  "vscode": {
   "interpreter": {
    "hash": "2c7dbe780e1f9efb49af50dd3c8b930511316f1727acd10ea1c5db6e62cfa82b"
   }
  }
 },
 "nbformat": 4,
 "nbformat_minor": 2
}
