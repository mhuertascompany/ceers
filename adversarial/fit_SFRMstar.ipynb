{
 "cells": [
  {
   "cell_type": "code",
   "execution_count": 1,
   "metadata": {},
   "outputs": [
    {
     "name": "stdout",
     "output_type": "stream",
     "text": [
      "0.12.2\n",
      "3.7.0\n"
     ]
    }
   ],
   "source": [
    "import pandas as pd\n",
    "import numpy as np\n",
    "from astropy.io import fits\n",
    "from astropy.wcs import WCS\n",
    "from astropy.nddata.utils import Cutout2D\n",
    "from astropy.coordinates import SkyCoord\n",
    "import pdb\n",
    "\n",
    "\n",
    "import h5py    \n",
    "import pandas as pd\n",
    "\n",
    "import sklearn\n",
    "\n",
    "\n",
    "import seaborn as sns\n",
    "print(sns.__version__)\n",
    "import plotly.express as px\n",
    "\n",
    "import matplotlib as mpl\n",
    "print(mpl.__version__)\n",
    "import matplotlib.pyplot as plt\n",
    "mpl.rcParams['font.family'] = 'serif'\n",
    "mpl.rcParams['axes.linewidth'] = 1.5\n",
    "mpl.rcParams['axes.xmargin'] = 1\n",
    "mpl.rcParams['xtick.labelsize'] = 'x-large'\n",
    "mpl.rcParams['xtick.major.size'] = 5\n",
    "mpl.rcParams['xtick.major.width'] = 1.5\n",
    "mpl.rcParams['ytick.labelsize'] = 'x-large'\n",
    "mpl.rcParams['ytick.major.size'] = 5\n",
    "mpl.rcParams['ytick.major.width'] = 1.5\n",
    "mpl.rcParams['legend.frameon'] = False\n",
    "\n",
    "import torch\n",
    "from sbi import utils as Ut\n",
    "from sbi import inference as Inference"
   ]
  },
  {
   "cell_type": "code",
   "execution_count": 2,
   "metadata": {},
   "outputs": [],
   "source": [
    "data_path = \"/Users/marchuertascompany/Documents/data/CEERS/DenseBasis/\"\n",
    "ceers_cat = pd.read_csv(data_path+\"CEERS_DR05_adversarial_asinh_3filters_1122_4class_ensemble_v02_stellar_params_morphflag_delta_10points_DenseBasis.csv\")\n",
    "#candels_ceers = pd.read_csv(data_path+\"CANDELS_CEERS_match_DR05_december_ensemble_galfit.csv\")"
   ]
  },
  {
   "cell_type": "code",
   "execution_count": 3,
   "metadata": {},
   "outputs": [],
   "source": [
    "from astropy.cosmology import Planck13 as cosmo\n",
    "ceers_cat['timescale']=(10**ceers_cat.logSFRinst_50/10**ceers_cat.logM_50)/(cosmo.H(ceers_cat.zfit_50)*3.24078e-20*3.154e+7)"
   ]
  },
  {
   "cell_type": "code",
   "execution_count": 58,
   "metadata": {},
   "outputs": [
    {
     "name": "stdout",
     "output_type": "stream",
     "text": [
      "Index(['Unnamed: 0', 'ID_1', 'logM_50', 'logM_16', 'logM_84', 'logSFRinst_50',\n",
      "       'logSFRinst_16', 'logSFRinst_84', 'logZsol_50', 'logZsol_16',\n",
      "       ...\n",
      "       'irr_f444w_mean', 'irr_f444w_std', 'bd_f444w_mean', 'bd_f444w_std',\n",
      "       'morph_flag_f356w', 'delta_f356', 'morph_flag_f200w', 'delta_f200',\n",
      "       'morph_flag_f444w', 'delta_f444'],\n",
      "      dtype='object', length=267)\n"
     ]
    }
   ],
   "source": [
    "print(ceers_cat.columns)"
   ]
  },
  {
   "cell_type": "code",
   "execution_count": 4,
   "metadata": {},
   "outputs": [],
   "source": [
    "def forwardmodel(logmstar,logmstar_16,logmstar_84,alpha,beta,sigma,logSFR_16,logSFR_84): \n",
    "  #\n",
    "  return ((alpha*(np.random.normal(size=len(logmstar))*(logmstar_84-logmstar_16)+logmstar-10.5)+beta))+np.random.normal(size=len(logmstar))*sigma+np.random.normal(size=len(logmstar))*(logSFR_84-logSFR_16)"
   ]
  },
  {
   "cell_type": "code",
   "execution_count": 4,
   "metadata": {},
   "outputs": [],
   "source": [
    "def forwardmodel(logmstar,logmstar_16,logmstar_84,alpha,beta,logSFR_16,logSFR_84): \n",
    "  #\n",
    "  return ((alpha*(np.random.normal(size=len(logmstar))*(logmstar_84-logmstar_16)+logmstar-10.5)+beta))+np.random.normal(size=len(logmstar))*(logSFR_84-logSFR_16)"
   ]
  },
  {
   "cell_type": "code",
   "execution_count": 5,
   "metadata": {},
   "outputs": [],
   "source": [
    "\n",
    "\n",
    "sel = ceers_cat.query(\"zfit_50>\"+str(0)+\"and zfit_50<\"+str(1)+\" and logSFR100_50<3 and logSFR100_50>-2 and timescale>0.33 and logM_50>9 and logM_50<11 and logM_16.notna() and logM_84.notna() and logSFR100_16.notna() and logSFR100_84.notna()\")\n",
    "mass=sel['logM_50']\n",
    "mass_16 = sel['logM_16']\n",
    "mass_84 = sel['logM_84']\n",
    "sfr_16 = sel['logSFR100_16']\n",
    "sfr_84 = sel['logSFR100_84']\n",
    "\n",
    "alpha_range = [-.3,1.3]\n",
    "beta_range=[-0.5,2]\n",
    "#sigma_range=[0,0.5]\n",
    "\n",
    "nsims=100000\n",
    "alpha = np.random.uniform(low=alpha_range[0],high=alpha_range[1],size=nsims)\n",
    "beta = np.random.uniform(low=beta_range[0],high=beta_range[1],size=nsims)\n",
    "#sigma = np.random.uniform(low=beta_range[0],high=beta_range[1],size=nsims)\n",
    "\n",
    "thetas=np.zeros((nsims,2))\n",
    "thetas[:,0]=alpha\n",
    "thetas[:,1]=beta\n",
    "#thetas[:,2]=sigma\n",
    "\n",
    "Xs1 = np.array([forwardmodel(mass,mass_16,mass_84,tt[0], tt[1],sfr_16,sfr_84,) for tt in thetas])"
   ]
  },
  {
   "cell_type": "code",
   "execution_count": 7,
   "metadata": {},
   "outputs": [
    {
     "name": "stdout",
     "output_type": "stream",
     "text": [
      "(100000, 451)\n",
      "3.845767347733054\n",
      "9.287500000001764\n",
      "9.186500000001733\n",
      "-28.194972416982814\n"
     ]
    }
   ],
   "source": [
    "#print(np.min(mass_84-mass_16))\n",
    "print(Xs1.shape)\n",
    "print(Xs1[1,107])\n",
    "print(np.array(mass)[107])\n",
    "print(np.array(mass_16)[107])\n",
    "print(np.min(Xs1))"
   ]
  },
  {
   "cell_type": "code",
   "execution_count": 7,
   "metadata": {},
   "outputs": [
    {
     "data": {
      "text/plain": [
       "<matplotlib.collections.PathCollection at 0x4282e5760>"
      ]
     },
     "execution_count": 7,
     "metadata": {},
     "output_type": "execute_result"
    },
    {
     "data": {
      "image/png": "[encoded data removed]",
      "text/plain": [
       "<Figure size 432x288 with 1 Axes>"
      ]
     },
     "metadata": {
      "needs_background": "light"
     },
     "output_type": "display_data"
    }
   ],
   "source": [
    "plt.scatter(mass,Xs1[100,:])"
   ]
  },
  {
   "cell_type": "code",
   "execution_count": 247,
   "metadata": {},
   "outputs": [
    {
     "name": "stdout",
     "output_type": "stream",
     "text": [
      "(20000, 913)\n",
      "(20000, 3)\n"
     ]
    }
   ],
   "source": [
    "print(Xs1.shape)\n",
    "print(thetas.shape)"
   ]
  },
  {
   "cell_type": "code",
   "execution_count": 8,
   "metadata": {},
   "outputs": [],
   "source": [
    "#lower_bounds = torch.tensor([-.3, -1,0.])\n",
    "#upper_bounds = torch.tensor([1, 1.0,0.5])\n",
    "\n",
    "lower_bounds = torch.tensor([-.3, -0.5])\n",
    "upper_bounds = torch.tensor([1.3, 2])\n",
    "#upper_bounds = torch.tensor([0, 1.5])\n",
    "\n",
    "bounds = Ut.BoxUniform(low=lower_bounds, high=upper_bounds, device='cpu')"
   ]
  },
  {
   "cell_type": "code",
   "execution_count": 9,
   "metadata": {},
   "outputs": [],
   "source": [
    "nhidden = 128 \n",
    "nblocks = 5\n",
    "\n",
    "maf_model = Ut.posterior_nn('maf', hidden_features=nhidden, num_transforms=nblocks)"
   ]
  },
  {
   "cell_type": "code",
   "execution_count": 10,
   "metadata": {},
   "outputs": [
    {
     "name": "stdout",
     "output_type": "stream",
     "text": [
      " Neural network successfully converged after 66 epochs."
     ]
    }
   ],
   "source": [
    "anpe = Inference.SNPE(prior=bounds,\n",
    "                      density_estimator=maf_model,\n",
    "                      device='cpu')\n",
    "\n",
    "anpe.append_simulations(\n",
    "            torch.as_tensor(thetas.astype(np.float32)).to('cpu'),\n",
    "            torch.as_tensor(Xs1[:,:].astype(np.float32)).to('cpu'))\n",
    "\n",
    "# estimate p(theta|X)\n",
    "p_theta_x_est = anpe.train()"
   ]
  },
  {
   "cell_type": "code",
   "execution_count": 11,
   "metadata": {},
   "outputs": [],
   "source": [
    "qphi = anpe.build_posterior(p_theta_x_est)"
   ]
  },
  {
   "cell_type": "code",
   "execution_count": 12,
   "metadata": {},
   "outputs": [],
   "source": [
    "#Xobs = np.asarray(0.1*(mass-10.5)+0.8)+np.random.normal(size=len(mass))*0.7\n",
    "Xobs = np.array(sel['logSFR100_50'])\n",
    "#Xobs=((0.1*(np.random.normal(size=len(mass))*(mass_84-mass_16)+mass-10.5)+0.5))+np.random.normal(size=len(mass))*0.1+np.random.normal(size=len(mass))*(sfr_84-sfr_16)\n"
   ]
  },
  {
   "cell_type": "code",
   "execution_count": 16,
   "metadata": {},
   "outputs": [],
   "source": [
    "posterior_samples = np.array(qphi.sample((10000,), \n",
    "                                x=torch.as_tensor(np.array(Xobs).astype(np.float32)).to('cpu'), \n",
    "                                show_progress_bars=False).detach().to('cpu'))"
   ]
  },
  {
   "cell_type": "code",
   "execution_count": 15,
   "metadata": {},
   "outputs": [],
   "source": [
    "posterior_samples.shape\n",
    "with open(data_path+'posterior_samples_nosigma_z01_100k.npy', 'wb') as f:\n",
    "    np.save(f,posterior_samples)"
   ]
  },
  {
   "cell_type": "code",
   "execution_count": 17,
   "metadata": {},
   "outputs": [
    {
     "name": "stdout",
     "output_type": "stream",
     "text": [
      "(10000, 2)\n",
      "[0.3725556  0.96168095]\n"
     ]
    },
    {
     "data": {
      "image/png": "[encoded data removed]",
      "text/plain": [
       "<Figure size 396x396 with 4 Axes>"
      ]
     },
     "metadata": {
      "needs_background": "light"
     },
     "output_type": "display_data"
    }
   ],
   "source": [
    "import corner\n",
    "fig = corner.corner(posterior_samples, \n",
    "                     labels=[r'alpha', 'beta','sigma'],\n",
    "                    label_kwargs={'fontsize': 25},\n",
    "                     hist_kwargs={'density': True})\n",
    "\n",
    "\n",
    "\n",
    "print(posterior_samples.shape)\n",
    "print(np.mean(posterior_samples,axis=0))\n",
    "#axes = np.array(fig.axes).reshape(2,2)\n",
    "#ax = axes[0,1]\n",
    "#ax.plot([], [], c='C0', label='ABC')\n",
    "#ax.plot([], [], c='C1', label='normalizing flow')\n",
    "#ax.legend(loc='lower left', fontsize=20)"
   ]
  },
  {
   "cell_type": "code",
   "execution_count": null,
   "metadata": {},
   "outputs": [],
   "source": []
  },
  {
   "cell_type": "code",
   "execution_count": null,
   "metadata": {},
   "outputs": [],
   "source": []
  },
  {
   "cell_type": "code",
   "execution_count": 61,
   "metadata": {},
   "outputs": [
    {
     "name": "stdout",
     "output_type": "stream",
     "text": [
      "3.4.2\n"
     ]
    }
   ],
   "source": [
    "print(mpl.__version__)"
   ]
  },
  {
   "cell_type": "code",
   "execution_count": null,
   "metadata": {},
   "outputs": [],
   "source": [
    "import seaborn as sns\n",
    "zbins = [0,1,3,6]\n",
    "for zlow,zup in zip(zbins[:-1],zbins[1:]):\n",
    "    sel = ceers_cat.query(\"zfit_50>\"+str(zlow)+\"and zfit_50<\"+str(zup)+\" and logSFR100_50>-5 and logSFR100_50<5 and logM_50>9\")\n",
    "    mass=sel['logM_50']\n",
    "    zbest = sel[\"zfit_50\"]\n",
    "    SFR = sel['logSFR100_50']\n",
    "    morph_flag = sel.morph_flag_f444w\n",
    "    #fig = plt.figure()\n",
    "    #fig.set_size_inches(8.5, 8.5)\n",
    "    #gs = fig.add_gridspec(2, 2,  width_ratios=(4, 1), height_ratios=(1, 4),\n",
    "                        #left=0.1, right=0.9, bottom=0.1, top=0.9,\n",
    "                        #wspace=0.05, hspace=0.05)\n",
    "    #sns.set(font_scale=1.5)\n",
    "    # Create the Axes.\n",
    "    #ax = fig.add_subplot(gs[1, 0])\n",
    "    #ax=px.density_contour(sel, x=\"logM_50\", y=\"logSFR100_50\",marginal_x=\"histogram\", marginal_y=\"histogram\",color='morph_flag_f200w')\n",
    "    \n",
    "    graph = sns.jointplot(x=mass[(morph_flag==0)|(morph_flag==3)], y=SFR[(morph_flag==0)|(morph_flag==3)],\n",
    "                 cmap=\"Reds\", kind=\"kde\", marginal_kws={\"color\":\"r\", \"fill\":\"True\",\"alpha\":.2}, fill=True, thresh=0.05, alpha=.5,\n",
    "                 label='Early-Type',color='red')\n",
    "\n",
    "    #graph.set_axis_labels()\n",
    "    #p=sns.jointplot(data=sel,x=\"logM_50\", y=\"logSFR100_50\",hue=\"morph_flag_f200w\",palette=['red','blue','green','orange'],kind='kde',marginal_kws=dict(common_norm=False, fill=True))\n",
    "    \n",
    "    graph.x = mass[(morph_flag==1)|(morph_flag==2)]\n",
    "    graph.y = SFR[(morph_flag==1)|(morph_flag==2)]\n",
    "    graph.plot_joint(sns.kdeplot, cmap=\"Blues\", fill=True, thresh=0.05, alpha=.5, label='Late-Type') \n",
    "    graph.set_axis_labels(xlabel='$\\log M_*/M_\\odot$', ylabel='$\\log SFR$',fontsize=16)\n",
    "    graph.ax_marg_x.set_xlim(8.5, 12)\n",
    "    graph.ax_marg_y.set_ylim(-4.5, 3)\n",
    "    \n",
    "    #graph.legend()\n",
    "    #plt.legend()\n",
    "    #ax = plt.gca()\n",
    "    #ax.legend(loc='lower left',fontsize=16)\n",
    "    graph.plot_marginals(sns.kdeplot, color='b', fill=True, alpha=.2, legend=False)\n",
    "    #palette=['red','blue','green','orange']\n",
    "    #hue=\"morph_flag_f200w\"\n",
    "    #plt.xlim(7,11)\n",
    "    #plt.ylim(-4.5,2.5)\n",
    "    #plt.xticks(fontsize=20, rotation=0)\n",
    "    #plt.yticks(fontsize=20, rotation=0)\n",
    "    #plt.ylabel(\"$\\log SFR$\",fontsize=20)\n",
    "    #plt.xlabel(\"$\\log M_*/M_\\odot$\",fontsize=20)\n",
    "    #ax_histx = fig.add_subplot(gs[0, 0], sharex=ax)\n",
    "    #ax_histy = fig.add_subplot(gs[1, 1], sharey=ax)\n",
    "    #ax_histx = ax.inset_axes([0, 1.05, 1, 0.25], sharex=ax)\n",
    "    #ax_histy = ax.inset_axes([1.05, 0, 0.25, 1], sharey=ax)\n",
    "    #ax.show()\n",
    "    # Draw the scatter plot and marginals.\n",
    "    \n",
    "    \n",
    "    #scatter_hist(sel.logM_50[morph_flag==1], sel.logSFR100_50[morph_flag==1], ax, ax_histx, ax_histy,[7,11.5],[-4,6],c='blue')\n",
    "    #scatter_hist(sel.logM_50[morph_flag==2], sel.logSFR100_50[morph_flag==2], ax, ax_histx, ax_histy,[7,11.5],[-4,6],c='green')\n",
    "    #scatter_hist(sel.logM_50[morph_flag==3], sel.logSFR100_50[morph_flag==3], ax, ax_histx, ax_histy,[7,11.5],[-4,6],c='orange')\n",
    "    #scatter_hist(sel.logM_50[morph_flag==0], sel.logSFR100_50[morph_flag==0], ax, ax_histx, ax_histy,[7,11.5],[-4,6],c='red')\n",
    "    plt.text(8.8,-4,str(zlow)+\"<z<\"+str(zup),fontsize=20)\n",
    "    plt.savefig(data_path+\"SFR_mstar_morph\"+str(zlow)+\"f444.png\")\n"
   ]
  }
 ],
 "metadata": {
  "kernelspec": {
   "display_name": "dl4astro19",
   "language": "python",
   "name": "python3"
  },
  "language_info": {
   "codemirror_mode": {
    "name": "ipython",
    "version": 3
   },
   "file_extension": ".py",
   "mimetype": "text/x-python",
   "name": "python",
   "nbconvert_exporter": "python",
   "pygments_lexer": "ipython3",
   "version": "3.9.16"
  },
  "orig_nbformat": 4,
  "vscode": {
   "interpreter": {
    "hash": "2c7dbe780e1f9efb49af50dd3c8b930511316f1727acd10ea1c5db6e62cfa82b"
   }
  }
 },
 "nbformat": 4,
 "nbformat_minor": 2
}
