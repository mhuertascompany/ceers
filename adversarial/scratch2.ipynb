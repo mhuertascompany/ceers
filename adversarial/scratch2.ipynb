{
 "cells": [
  {
   "cell_type": "code",
   "execution_count": null,
   "metadata": {},
   "outputs": [],
   "source": [
    "morph_flag=[]\n",
    "delta_value = []\n",
    "\n",
    "for sph,dk,irr,bd in zip(ngdeep.sph_f200w_mean,ngdeep.disk_f200w_mean,ngdeep.irr_f200w_mean,ngdeep.bd_f200w_mean):\n",
    "    maxpos = np.argmax([sph,dk,irr,bd])\n",
    "    delta = np.sort([sph,dk,irr,bd])[3]-np.sort([sph,dk,irr,bd])[2]\n",
    "    morph_flag.append(maxpos)\n",
    "    delta_value.append(delta)\n",
    "#morph_flag=np.array(morph_flag)\n",
    "#morph_flag[(cosmos.disk_f200>0.3)]=1    \n",
    "ngdeep['morph_flag_f200w']=np.array(morph_flag)\n",
    "ngdeep['delta_f200']=np.array(delta_value)\n",
    "\n",
    "morph_flag=[]\n",
    "delta_value = []\n",
    "\n",
    "for sph,dk,irr,bd in zip(ngdeep.sph_f444w_mean,ngdeep.disk_f444w_mean,ngdeep.irr_f444w_mean,ngdeep.bd_f444w_mean):\n",
    "    maxpos = np.argmax([sph,dk,irr,bd])\n",
    "    delta = np.sort([sph,dk,irr,bd])[3]-np.sort([sph,dk,irr,bd])[2]\n",
    "    morph_flag.append(maxpos)\n",
    "    delta_value.append(delta)\n",
    "#morph_flag=np.array(morph_flag)\n",
    "#morph_flag[(cosmos.disk_f200>0.3)]=1    \n",
    "ngdeep['morph_flag_f444w']=np.array(morph_flag)\n",
    "ngdeep['delta_f444']=np.array(delta_value)\n",
    "\n",
    "\n",
    "morph_flag=[]\n",
    "delta_value = []\n",
    "\n",
    "for sph,dk,irr,bd in zip(ngdeep.sph_f356w_mean,ngdeep.disk_f356w_mean,ngdeep.irr_f356w_mean,ngdeep.bd_f356w_mean):\n",
    "    maxpos = np.argmax([sph,dk,irr,bd])\n",
    "    delta = np.sort([sph,dk,irr,bd])[3]-np.sort([sph,dk,irr,bd])[2]\n",
    "    morph_flag.append(maxpos)\n",
    "    delta_value.append(delta)\n",
    "#morph_flag=np.array(morph_flag)\n",
    "#morph_flag[(cosmos.disk_f200>0.3)]=1    \n",
    "ngdeep['morph_flag_f356w']=np.array(morph_flag)\n",
    "ngdeep['delta_f356']=np.array(delta_value)"
   ]
  }
 ],
 "metadata": {
  "language_info": {
   "name": "python"
  },
  "orig_nbformat": 4
 },
 "nbformat": 4,
 "nbformat_minor": 2
}
